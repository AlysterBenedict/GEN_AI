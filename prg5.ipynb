{
 "cells": [
  {
   "cell_type": "markdown",
   "id": "798eb535",
   "metadata": {},
   "source": [
    "Program 5:\n",
    "Use word embeddings to create meaningful sentences for creative tasks. Retrieve similar words for a seed word. Create a sentence or story using these words as a starting point. Write a program that: Takes a seed word. Generates similar words. Constructs a short paragraph using these words."
   ]
  },
  {
   "cell_type": "code",
   "execution_count": null,
   "id": "7051df80",
   "metadata": {},
   "outputs": [],
   "source": [
    "import gensim.downloader as api\n",
    "import random\n",
    "import nltk\n",
    "from nltk.tokenize import sent_tokenize\n",
    "\n",
    "# Ensure required resources are downloaded\n",
    "nltk.download('punkt')\n",
    "\n",
    "# Load pre-trained word vectors\n",
    "print(\"Loading pre-trained word vectors...\")\n",
    "word_vectors = api.load(\"glove-wiki-gigaword-100\")  # 100D GloVe word embeddings\n",
    "print(\"Word vectors loaded successfully!\")\n",
    "\n",
    "# Function to retrieve top-N similar words for a given seed word\n",
    "def get_similar_words(seed_word, top_n=5):\n",
    "    \"\"\"Retrieve top-N similar words for a given seed word.\"\"\"\n",
    "    try:\n",
    "        similar_words = word_vectors.most_similar(seed_word, topn=top_n)\n",
    "        return [word[0] for word in similar_words]\n",
    "    except KeyError:\n",
    "        print(f\"'{seed_word}' not found in vocabulary. Try another word.\")\n",
    "        return []\n",
    "\n",
    "# Function to create a meaningful sentence using the seed word and its similar words\n",
    "def generate_sentence(seed_word, similar_words):\n",
    "    \"\"\"Create a meaningful sentence using the seed word and its similar words.\"\"\"\n",
    "    sentence_templates = [\n",
    "        f\"The {seed_word} was surrounded by {similar_words[0]} and {similar_words[1]}.\",\n",
    "        f\"People often associate {seed_word} with {similar_words[2]} and {similar_words[3]}.\",\n",
    "        f\"In the land of {seed_word}, {similar_words[4]} was a common sight.\",\n",
    "        f\"A story about {seed_word} would be incomplete without {similar_words[1]} and {similar_words[3]}.\",\n",
    "    ]\n",
    "    return random.choice(sentence_templates)\n",
    "\n",
    "# Function to construct a creative paragraph using the seed word and similar words\n",
    "def generate_paragraph(seed_word):\n",
    "    \"\"\"Construct a creative paragraph using the seed word and similar words.\"\"\"\n",
    "    similar_words = get_similar_words(seed_word, top_n=5)\n",
    "    if not similar_words:\n",
    "        return \"Could not generate a paragraph. Try another seed word.\"\n",
    "    paragraph = [generate_sentence(seed_word, similar_words) for _ in range(4)]\n",
    "    return \" \".join(paragraph)\n",
    "\n",
    "# Example usage\n",
    "seed_word = input(\"Enter a seed word: \")\n",
    "paragraph = generate_paragraph(seed_word)\n",
    "\n",
    "# Print the generated paragraph\n",
    "print(\"\\nGenerated Paragraph:\\n\")\n",
    "print(paragraph)\n"
   ]
  }
 ],
 "metadata": {
  "kernelspec": {
   "display_name": "base",
   "language": "python",
   "name": "python3"
  },
  "language_info": {
   "name": "python",
   "version": "3.12.7"
  }
 },
 "nbformat": 4,
 "nbformat_minor": 5
}
