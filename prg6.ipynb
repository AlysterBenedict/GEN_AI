{
 "cells": [
  {
   "cell_type": "markdown",
   "id": "70a7dfa7",
   "metadata": {},
   "source": [
    "Program 6:\n",
    "Use a pre-trained Hugging Face model to analyze sentiment in text. Assume a real-world application, Load the sentiment analysis pipeline. Analyze the sentiment by giving sentences to input."
   ]
  },
  {
   "cell_type": "code",
   "execution_count": 1,
   "id": "ee9aa761",
   "metadata": {},
   "outputs": [
    {
     "name": "stdout",
     "output_type": "stream",
     "text": [
      "Requirement already satisfied: transformers in c:\\users\\bened\\anaconda3\\envs\\transformers_env\\lib\\site-packages (4.52.3)\n",
      "Requirement already satisfied: filelock in c:\\users\\bened\\anaconda3\\envs\\transformers_env\\lib\\site-packages (from transformers) (3.18.0)\n",
      "Requirement already satisfied: huggingface-hub<1.0,>=0.30.0 in c:\\users\\bened\\anaconda3\\envs\\transformers_env\\lib\\site-packages (from transformers) (0.31.4)\n",
      "Requirement already satisfied: numpy>=1.17 in c:\\users\\bened\\anaconda3\\envs\\transformers_env\\lib\\site-packages (from transformers) (1.26.4)\n",
      "Requirement already satisfied: packaging>=20.0 in c:\\users\\bened\\appdata\\roaming\\python\\python312\\site-packages (from transformers) (24.1)\n",
      "Requirement already satisfied: pyyaml>=5.1 in c:\\users\\bened\\anaconda3\\envs\\transformers_env\\lib\\site-packages (from transformers) (6.0.2)\n",
      "Requirement already satisfied: regex!=2019.12.17 in c:\\users\\bened\\anaconda3\\envs\\transformers_env\\lib\\site-packages (from transformers) (2024.11.6)\n",
      "Requirement already satisfied: requests in c:\\users\\bened\\anaconda3\\envs\\transformers_env\\lib\\site-packages (from transformers) (2.32.3)\n",
      "Requirement already satisfied: tokenizers<0.22,>=0.21 in c:\\users\\bened\\anaconda3\\envs\\transformers_env\\lib\\site-packages (from transformers) (0.21.1)\n",
      "Requirement already satisfied: safetensors>=0.4.3 in c:\\users\\bened\\anaconda3\\envs\\transformers_env\\lib\\site-packages (from transformers) (0.5.3)\n",
      "Requirement already satisfied: tqdm>=4.27 in c:\\users\\bened\\anaconda3\\envs\\transformers_env\\lib\\site-packages (from transformers) (4.67.1)\n",
      "Requirement already satisfied: fsspec>=2023.5.0 in c:\\users\\bened\\anaconda3\\envs\\transformers_env\\lib\\site-packages (from huggingface-hub<1.0,>=0.30.0->transformers) (2025.3.0)\n",
      "Requirement already satisfied: typing-extensions>=3.7.4.3 in c:\\users\\bened\\anaconda3\\envs\\transformers_env\\lib\\site-packages (from huggingface-hub<1.0,>=0.30.0->transformers) (4.13.2)\n",
      "Requirement already satisfied: colorama in c:\\users\\bened\\appdata\\roaming\\python\\python312\\site-packages (from tqdm>=4.27->transformers) (0.4.6)\n",
      "Requirement already satisfied: charset_normalizer<4,>=2 in c:\\users\\bened\\anaconda3\\envs\\transformers_env\\lib\\site-packages (from requests->transformers) (3.4.2)\n",
      "Requirement already satisfied: idna<4,>=2.5 in c:\\users\\bened\\anaconda3\\envs\\transformers_env\\lib\\site-packages (from requests->transformers) (3.10)\n",
      "Requirement already satisfied: urllib3<3,>=1.21.1 in c:\\users\\bened\\anaconda3\\envs\\transformers_env\\lib\\site-packages (from requests->transformers) (2.4.0)\n",
      "Requirement already satisfied: certifi>=2017.4.17 in c:\\users\\bened\\anaconda3\\envs\\transformers_env\\lib\\site-packages (from requests->transformers) (2025.4.26)\n"
     ]
    },
    {
     "name": "stderr",
     "output_type": "stream",
     "text": [
      "c:\\Users\\bened\\anaconda3\\envs\\transformers_env\\Lib\\site-packages\\tqdm\\auto.py:21: TqdmWarning: IProgress not found. Please update jupyter and ipywidgets. See https://ipywidgets.readthedocs.io/en/stable/user_install.html\n",
      "  from .autonotebook import tqdm as notebook_tqdm\n",
      "No model was supplied, defaulted to distilbert/distilbert-base-uncased-finetuned-sst-2-english and revision 714eb0f (https://huggingface.co/distilbert/distilbert-base-uncased-finetuned-sst-2-english).\n",
      "Using a pipeline without specifying a model name and revision in production is not recommended.\n"
     ]
    },
    {
     "name": "stdout",
     "output_type": "stream",
     "text": [
      "🔍 Loading Sentiment Analysis Model...\n"
     ]
    },
    {
     "name": "stderr",
     "output_type": "stream",
     "text": [
      "c:\\Users\\bened\\anaconda3\\envs\\transformers_env\\Lib\\site-packages\\huggingface_hub\\file_download.py:143: UserWarning: `huggingface_hub` cache-system uses symlinks by default to efficiently store duplicated files but your machine does not support them in C:\\Users\\bened\\.cache\\huggingface\\hub\\models--distilbert--distilbert-base-uncased-finetuned-sst-2-english. Caching files will still work but in a degraded version that might require more space on your disk. This warning can be disabled by setting the `HF_HUB_DISABLE_SYMLINKS_WARNING` environment variable. For more details, see https://huggingface.co/docs/huggingface_hub/how-to-cache#limitations.\n",
      "To support symlinks on Windows, you either need to activate Developer Mode or to run Python as an administrator. In order to activate developer mode, see this article: https://docs.microsoft.com/en-us/windows/apps/get-started/enable-your-device-for-development\n",
      "  warnings.warn(message)\n"
     ]
    },
    {
     "name": "stdout",
     "output_type": "stream",
     "text": [
      "WARNING:tensorflow:From c:\\Users\\bened\\anaconda3\\envs\\transformers_env\\Lib\\site-packages\\tf_keras\\src\\losses.py:2976: The name tf.losses.sparse_softmax_cross_entropy is deprecated. Please use tf.compat.v1.losses.sparse_softmax_cross_entropy instead.\n",
      "\n"
     ]
    },
    {
     "name": "stderr",
     "output_type": "stream",
     "text": [
      "Xet Storage is enabled for this repo, but the 'hf_xet' package is not installed. Falling back to regular HTTP download. For better performance, install the package with: `pip install huggingface_hub[hf_xet]` or `pip install hf_xet`\n",
      "Device set to use cpu\n"
     ]
    },
    {
     "name": "stdout",
     "output_type": "stream",
     "text": [
      "\n",
      "📢 Customer Sentiment Analysis Results:\n",
      "\n",
      "📝 Input Text: The product is amazing! I love it so much.\n",
      "📊 Sentiment: POSITIVE (Confidence: 0.9999)\n",
      "\n",
      "\n",
      "📝 Input Text: I'm very disappointed. The service was terrible.\n",
      "📊 Sentiment: NEGATIVE (Confidence: 0.9998)\n",
      "\n",
      "\n",
      "📝 Input Text: It was an average experience, nothing special.\n",
      "📊 Sentiment: NEGATIVE (Confidence: 0.9995)\n",
      "\n",
      "\n",
      "📝 Input Text: Absolutely fantastic quality! Highly recommended.\n",
      "📊 Sentiment: POSITIVE (Confidence: 0.9999)\n",
      "\n",
      "\n",
      "📝 Input Text: Not great, but not the worst either.\n",
      "📊 Sentiment: NEGATIVE (Confidence: 0.9961)\n",
      "\n"
     ]
    }
   ],
   "source": [
    "# Install required libraries (only needed for first-time setup)\n",
    "! pip install transformers\n",
    "\n",
    "# Import the sentiment analysis pipeline from Hugging Face\n",
    "from transformers import pipeline\n",
    "\n",
    "# Load the sentiment analysis pipeline\n",
    "print(\"🔍 Loading Sentiment Analysis Model...\")\n",
    "sentiment_analyzer = pipeline(\"sentiment-analysis\")\n",
    "\n",
    "# Function to analyze sentiment\n",
    "def analyze_sentiment(text):\n",
    "    \"\"\"\n",
    "    Analyze the sentiment of a given text input.\n",
    "    Args:\n",
    "        text (str): Input sentence or paragraph.\n",
    "    Returns:\n",
    "        dict: Sentiment label and confidence score.\n",
    "    \"\"\"\n",
    "    result = sentiment_analyzer(text)[0]  # Get the first result\n",
    "    label = result['label']  # Sentiment label (POSITIVE/NEGATIVE)\n",
    "    score = result['score']  # Confidence score\n",
    "    print(f\"\\n📝 Input Text: {text}\")\n",
    "    print(f\"📊 Sentiment: {label} (Confidence: {score:.4f})\\n\")\n",
    "    return result\n",
    "\n",
    "# Example real-world application: Customer feedback analysis\n",
    "customer_reviews = [\n",
    "    \"The product is amazing! I love it so much.\",\n",
    "    \"I'm very disappointed. The service was terrible.\",\n",
    "    \"It was an average experience, nothing special.\",\n",
    "    \"Absolutely fantastic quality! Highly recommended.\",\n",
    "    \"Not great, but not the worst either.\"\n",
    "]\n",
    "\n",
    "# Analyze sentiment for multiple reviews\n",
    "print(\"\\n📢 Customer Sentiment Analysis Results:\")\n",
    "for review in customer_reviews:\n",
    "    analyze_sentiment(review)\n"
   ]
  }
 ],
 "metadata": {
  "kernelspec": {
   "display_name": "transformers_env",
   "language": "python",
   "name": "python3"
  },
  "language_info": {
   "codemirror_mode": {
    "name": "ipython",
    "version": 3
   },
   "file_extension": ".py",
   "mimetype": "text/x-python",
   "name": "python",
   "nbconvert_exporter": "python",
   "pygments_lexer": "ipython3",
   "version": "3.12.3"
  }
 },
 "nbformat": 4,
 "nbformat_minor": 5
}
