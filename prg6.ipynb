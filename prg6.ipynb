{
 "cells": [
  {
   "cell_type": "markdown",
   "id": "70a7dfa7",
   "metadata": {},
   "source": [
    "Program 6:\n",
    "Use a pre-trained Hugging Face model to analyze sentiment in text. Assume a real-world application, Load the sentiment analysis pipeline. Analyze the sentiment by giving sentences to input."
   ]
  },
  {
   "cell_type": "code",
   "execution_count": 1,
   "id": "ee9aa761",
   "metadata": {},
   "outputs": [
    {
     "name": "stderr",
     "output_type": "stream",
     "text": [
      "c:\\Users\\bened\\anaconda3\\envs\\transformers_env\\Lib\\site-packages\\tqdm\\auto.py:21: TqdmWarning: IProgress not found. Please update jupyter and ipywidgets. See https://ipywidgets.readthedocs.io/en/stable/user_install.html\n",
      "  from .autonotebook import tqdm as notebook_tqdm\n",
      "No model was supplied, defaulted to distilbert/distilbert-base-uncased-finetuned-sst-2-english and revision 714eb0f (https://huggingface.co/distilbert/distilbert-base-uncased-finetuned-sst-2-english).\n",
      "Using a pipeline without specifying a model name and revision in production is not recommended.\n"
     ]
    },
    {
     "name": "stdout",
     "output_type": "stream",
     "text": [
      "🔍 Loading Sentiment Analysis Model...\n",
      "WARNING:tensorflow:From c:\\Users\\bened\\anaconda3\\envs\\transformers_env\\Lib\\site-packages\\tf_keras\\src\\losses.py:2976: The name tf.losses.sparse_softmax_cross_entropy is deprecated. Please use tf.compat.v1.losses.sparse_softmax_cross_entropy instead.\n",
      "\n"
     ]
    },
    {
     "name": "stderr",
     "output_type": "stream",
     "text": [
      "Device set to use cpu\n"
     ]
    },
    {
     "name": "stdout",
     "output_type": "stream",
     "text": [
      "\n",
      "📢 Customer Sentiment Analysis Results:\n",
      "\n",
      "📝 Input Text: The product is amazing! I love it so much.\n",
      "📊 Sentiment: POSITIVE (Confidence: 0.9999)\n",
      "\n",
      "\n",
      "📝 Input Text: I'm very disappointed. The service was terrible.\n",
      "📊 Sentiment: NEGATIVE (Confidence: 0.9998)\n",
      "\n",
      "\n",
      "📝 Input Text: It was an average experience, nothing special.\n",
      "📊 Sentiment: NEGATIVE (Confidence: 0.9995)\n",
      "\n",
      "\n",
      "📝 Input Text: Absolutely fantastic quality! Highly recommended.\n",
      "📊 Sentiment: POSITIVE (Confidence: 0.9999)\n",
      "\n",
      "\n",
      "📝 Input Text: Not great, but not the worst either.\n",
      "📊 Sentiment: NEGATIVE (Confidence: 0.9961)\n",
      "\n"
     ]
    }
   ],
   "source": [
    "#! pip install transformers\n",
    "\n",
    "# Import the sentiment analysis pipeline from Hugging Face\n",
    "from transformers import pipeline\n",
    "\n",
    "# Load the sentiment analysis pipeline\n",
    "print(\"🔍 Loading Sentiment Analysis Model...\")\n",
    "sentiment_analyzer = pipeline(\"sentiment-analysis\")\n",
    "\n",
    "# Function to analyze sentiment\n",
    "def analyze_sentiment(text):\n",
    "\n",
    "    result = sentiment_analyzer(text)[0]  # Get the first result\n",
    "    label = result['label']  # Sentiment label (POSITIVE/NEGATIVE)\n",
    "    score = result['score']  # Confidence score\n",
    "    print(f\"\\n📝 Input Text: {text}\")\n",
    "    print(f\"📊 Sentiment: {label} (Confidence: {score:.4f})\\n\")\n",
    "    return result\n",
    "\n",
    "# Example real-world application: Customer feedback analysis\n",
    "customer_reviews = [\n",
    "    \"The product is amazing! I love it so much.\",\n",
    "    \"I'm very disappointed. The service was terrible.\",\n",
    "    \"It was an average experience, nothing special.\",\n",
    "    \"Absolutely fantastic quality! Highly recommended.\",\n",
    "    \"Not great, but not the worst either.\"\n",
    "]\n",
    "\n",
    "# Analyze sentiment for multiple reviews\n",
    "print(\"\\n📢 Customer Sentiment Analysis Results:\")\n",
    "for review in customer_reviews:\n",
    "    analyze_sentiment(review)\n"
   ]
  }
 ],
 "metadata": {
  "kernelspec": {
   "display_name": "transformers_env",
   "language": "python",
   "name": "python3"
  },
  "language_info": {
   "codemirror_mode": {
    "name": "ipython",
    "version": 3
   },
   "file_extension": ".py",
   "mimetype": "text/x-python",
   "name": "python",
   "nbconvert_exporter": "python",
   "pygments_lexer": "ipython3",
   "version": "3.12.3"
  }
 },
 "nbformat": 4,
 "nbformat_minor": 5
}
