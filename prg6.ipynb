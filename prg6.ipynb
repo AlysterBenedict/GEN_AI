{
 "cells": [
  {
   "cell_type": "markdown",
   "id": "70a7dfa7",
   "metadata": {},
   "source": [
    "Program 6:\n",
    "Use a pre-trained Hugging Face model to analyze sentiment in text. Assume a real-world application, Load the sentiment analysis pipeline. Analyze the sentiment by giving sentences to input."
   ]
  },
  {
   "cell_type": "code",
   "execution_count": null,
   "id": "ee9aa761",
   "metadata": {},
   "outputs": [],
   "source": [
    "# Install required libraries (only needed for first-time setup)\n",
    "! pip install transformers\n",
    "\n",
    "# Import the sentiment analysis pipeline from Hugging Face\n",
    "from transformers import pipeline\n",
    "\n",
    "# Load the sentiment analysis pipeline\n",
    "print(\"🔍 Loading Sentiment Analysis Model...\")\n",
    "sentiment_analyzer = pipeline(\"sentiment-analysis\")\n",
    "\n",
    "# Function to analyze sentiment\n",
    "def analyze_sentiment(text):\n",
    "    \"\"\"\n",
    "    Analyze the sentiment of a given text input.\n",
    "    Args:\n",
    "        text (str): Input sentence or paragraph.\n",
    "    Returns:\n",
    "        dict: Sentiment label and confidence score.\n",
    "    \"\"\"\n",
    "    result = sentiment_analyzer(text)[0]  # Get the first result\n",
    "    label = result['label']  # Sentiment label (POSITIVE/NEGATIVE)\n",
    "    score = result['score']  # Confidence score\n",
    "    print(f\"\\n📝 Input Text: {text}\")\n",
    "    print(f\"📊 Sentiment: {label} (Confidence: {score:.4f})\\n\")\n",
    "    return result\n",
    "\n",
    "# Example real-world application: Customer feedback analysis\n",
    "customer_reviews = [\n",
    "    \"The product is amazing! I love it so much.\",\n",
    "    \"I'm very disappointed. The service was terrible.\",\n",
    "    \"It was an average experience, nothing special.\",\n",
    "    \"Absolutely fantastic quality! Highly recommended.\",\n",
    "    \"Not great, but not the worst either.\"\n",
    "]\n",
    "\n",
    "# Analyze sentiment for multiple reviews\n",
    "print(\"\\n📢 Customer Sentiment Analysis Results:\")\n",
    "for review in customer_reviews:\n",
    "    analyze_sentiment(review)\n"
   ]
  }
 ],
 "metadata": {
  "kernelspec": {
   "display_name": "base",
   "language": "python",
   "name": "python3"
  },
  "language_info": {
   "name": "python",
   "version": "3.12.7"
  }
 },
 "nbformat": 4,
 "nbformat_minor": 5
}
