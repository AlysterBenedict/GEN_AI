{
 "cells": [
  {
   "cell_type": "markdown",
   "id": "cd231154",
   "metadata": {},
   "source": [
    "Program 7 : Summarize long texts using a pre-trained summarization model using Hugging face model. Load the summarization pipeline. Take a passage as input and obtain the summarized text"
   ]
  },
  {
   "cell_type": "code",
   "execution_count": 2,
   "id": "63de0c8a",
   "metadata": {},
   "outputs": [],
   "source": [
    "import os\n",
    "os.environ[\"HF_HUB_DISABLE_SYMLINKS_WARNING\"] = \"1\""
   ]
  },
  {
   "cell_type": "code",
   "execution_count": 2,
   "id": "b1645ad5",
   "metadata": {},
   "outputs": [
    {
     "name": "stdout",
     "output_type": "stream",
     "text": [
      "🔍 Loading Summarization Model (BART)...\n"
     ]
    },
    {
     "name": "stderr",
     "output_type": "stream",
     "text": [
      "Device set to use cpu\n"
     ]
    },
    {
     "name": "stdout",
     "output_type": "stream",
     "text": [
      "\n",
      "📝 Original Text:\n",
      "Artificial intelligence is rapidly transforming the world, influencing various industries including healthcare, finance, manufacturing, and education. AI-driven technologies are revolutionizing traditional processes by automating tasks, providing powerful insights, and enhancing efficiency. Machine learning algorithms analyze vast datasets to generate predictions, while natural language processing enables seamless communication between humans and machines. With advancements in deep learning, AI systems are now capable of understanding complex patterns, driving autonomous decision-making, and improving real-time analysis. Organizations are leveraging AI to optimize supply chains, detect fraud, personalize user experiences, and develop innovative solutions for global challenges. Despite its numerous benefits, AI also raises ethical concerns, including data privacy, bias in algorithms, and the impact on employment. Policymakers and industry leaders are working together to establish regulations that ensure AI is used responsibly and ethically. The future of AI holds immense potential, with ongoing research aimed at making it more transparent, trustworthy, and accessible for everyone. As AI continues to evolve, it will undoubtedly shape the way humans interact with technology, paving the way for a more interconnected and intelligent world.\n",
      "\n",
      "📌 Summarized Text:\n",
      "Default: Artificial intelligence is revolutionizing traditional processes by automating tasks, providing powerful insights, and enhancing efficiency. Despite its numerous benefits, AI also raises ethical concerns, including data privacy, bias in algorithms, and the impact on employment. Policymakers and industry leaders are working together to establish regulations that ensure AI is used responsibly and ethically.\n",
      "High randomness: Artificial intelligence is revolutionizing traditional processes by automating tasks, providing powerful insights, and enhancing efficiency. Despite its numerous benefits, AI also raises ethical concerns, including data privacy, bias in algorithms, and the impact on employment. Policymakers and industry leaders are working together to establish regulations that ensure AI is used responsibly and ethically.\n",
      "Conservative: Artificial intelligence is revolutionizing traditional processes by automating tasks, providing powerful insights, and enhancing efficiency. Despite its numerous benefits, AI also raises ethical concerns, including data privacy, bias in algorithms, and the impact on employment. Policymakers and industry leaders are working together to establish regulations that ensure AI is used responsibly and ethically.\n",
      "Diverse sampling: AI-driven technologies are revolutionizing traditional processes by automating tasks, providing powerful insights, and enhancing efficiency. Despite its numerous benefits, AI raises ethical concerns, including data privacy, bias in algorithms, and the impact on employment. Policymakers and industry leaders are working together to establish regulations that ensure AI is used responsibly and ethically.\n"
     ]
    }
   ],
   "source": [
    "from transformers import pipeline\n",
    "import torch\n",
    "\n",
    "# Check if CUDA (GPU) is available, otherwise use CPU\n",
    "device = 0 if torch.cuda.is_available() else -1\n",
    "\n",
    "# Load the pre-trained BART summarization model\n",
    "print(\"🔍 Loading Summarization Model (BART)...\")\n",
    "summarizer = pipeline(\"summarization\", model=\"facebook/bart-large-cnn\", device=device)\n",
    "\n",
    "# Function to summarize text with improved accuracy\n",
    "def summarize_text(text, max_length=None, min_length=None):\n",
    "    \"\"\"\n",
    "    Summarizes a given long text using a pre-trained BART summarization model.\n",
    "\n",
    "    Args:\n",
    "        text (str): The input passage to summarize.\n",
    "        max_length (int): Maximum length of the summary (default: auto-calculated).\n",
    "        min_length (int): Minimum length of the summary (default: auto-calculated).\n",
    "\n",
    "    Returns:\n",
    "        str: The summarized text.\n",
    "    \"\"\"\n",
    "    # Remove unnecessary line breaks\n",
    "    text = \" \".join(text.split())\n",
    "\n",
    "    # Auto-adjust summary length based on text size\n",
    "    if not max_length:\n",
    "        max_length = min(len(text) // 3, 150)  # Summary should be ~1/3rd of input\n",
    "    if not min_length:\n",
    "        min_length = max(30, max_length // 3)  # Minimum length should be at least 30\n",
    "\n",
    "    # Generate the summary with different sampling techniques\n",
    "    summary_1 = summarizer(text, max_length=150, min_length=30, do_sample=False)\n",
    "    summary_2 = summarizer(text, max_length=150, min_length=30, do_sample=True, temperature=0.9)\n",
    "    summary_3 = summarizer(text, max_length=150, min_length=30, do_sample=False, num_beams=5)\n",
    "    summary_4 = summarizer(text, max_length=150, min_length=30, do_sample=True, top_k=50, top_p=0.95)\n",
    "\n",
    "    # Print summarized versions\n",
    "    print(\"\\n📝 Original Text:\")\n",
    "    print(text)\n",
    "    print(\"\\n📌 Summarized Text:\")\n",
    "    print(\"Default:\", summary_1[0]['summary_text'])\n",
    "    print(\"High randomness:\", summary_2[0]['summary_text'])\n",
    "    print(\"Conservative:\", summary_3[0]['summary_text'])\n",
    "    print(\"Diverse sampling:\", summary_4[0]['summary_text'])\n",
    "\n",
    "# Example usage with a large sample text\n",
    "sample_text = \"\"\"Artificial intelligence is rapidly transforming the world, influencing various industries including healthcare, \n",
    "finance, manufacturing, and education. AI-driven technologies are revolutionizing traditional processes by automating tasks, \n",
    "providing powerful insights, and enhancing efficiency. Machine learning algorithms analyze vast datasets to generate predictions, \n",
    "while natural language processing enables seamless communication between humans and machines. With advancements in deep learning, \n",
    "AI systems are now capable of understanding complex patterns, driving autonomous decision-making, and improving real-time analysis. \n",
    "Organizations are leveraging AI to optimize supply chains, detect fraud, personalize user experiences, and develop innovative solutions \n",
    "for global challenges. Despite its numerous benefits, AI also raises ethical concerns, including data privacy, bias in algorithms, \n",
    "and the impact on employment. Policymakers and industry leaders are working together to establish regulations that ensure AI is used \n",
    "responsibly and ethically. The future of AI holds immense potential, with ongoing research aimed at making it more transparent, \n",
    "trustworthy, and accessible for everyone. As AI continues to evolve, it will undoubtedly shape the way humans interact with technology, \n",
    "paving the way for a more interconnected and intelligent world.\"\"\"\n",
    "\n",
    "summarize_text(sample_text)"
   ]
  }
 ],
 "metadata": {
  "kernelspec": {
   "display_name": "transformers_env",
   "language": "python",
   "name": "python3"
  },
  "language_info": {
   "codemirror_mode": {
    "name": "ipython",
    "version": 3
   },
   "file_extension": ".py",
   "mimetype": "text/x-python",
   "name": "python",
   "nbconvert_exporter": "python",
   "pygments_lexer": "ipython3",
   "version": "3.12.3"
  }
 },
 "nbformat": 4,
 "nbformat_minor": 5
}
