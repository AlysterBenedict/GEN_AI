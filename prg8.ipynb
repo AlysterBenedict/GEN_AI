{
 "cells": [
  {
   "cell_type": "markdown",
   "id": "97516f6e",
   "metadata": {},
   "source": [
    "Program 8 : \n",
    "Install langchain, cohere (for key), langchain-community. Get the api key( By logging into Cohere and obtaining the cohere key). Load a text document from your google drive . Create a prompt template to display the output in a particular manner."
   ]
  },
  {
   "cell_type": "code",
   "execution_count": null,
   "id": "1b09515c",
   "metadata": {},
   "outputs": [],
   "source": [
    "# 🚀 Step 1: Install required libraries (Run this only once)\n",
    "!pip install langchain cohere langchain-community google-colab\n",
    "\n",
    "# 🚀 Step 2: Import necessary libraries\n",
    "import cohere\n",
    "import getpass\n",
    "from langchain import PromptTemplate\n",
    "from langchain.llms import Cohere\n",
    "from google.colab import auth\n",
    "from google.colab import drive\n",
    "\n",
    "# 🚀 Step 3: Authenticate Google Drive\n",
    "auth.authenticate_user()\n",
    "drive.mount('/content/drive')\n",
    "\n",
    "# 🚀 Step 4: Load the Text File from Google Drive\n",
    "file_path = \"/content/drive/My Drive/Teaching.txt\"  # Change this to your file path\n",
    "try:\n",
    "    with open(file_path, \"r\", encoding=\"utf-8\") as file:\n",
    "        text_content = file.read()\n",
    "    print(\"✅ File loaded successfully!\")\n",
    "except Exception as e:\n",
    "    print(\"❌ Error loading file:\", str(e))\n",
    "\n",
    "# 🚀 Step 5: Set Up Cohere API Key\n",
    "COHERE_API_KEY = getpass.getpass(\"🔑 Enter your Cohere API Key: \")\n",
    "\n",
    "# 🚀 Step 6: Initialize Cohere Model with LangChain\n",
    "cohere_llm = Cohere(cohere_api_key=COHERE_API_KEY, model=\"command\")\n",
    "\n",
    "# 🚀 Step 7: Create a Prompt Template\n",
    "template = \"\"\"\n",
    "You are an AI assistant helping to summarize and analyze a text document.\n",
    "Here is the document content:\n",
    "{text}\n",
    "\n",
    "🔹 Summary:\n",
    "- Provide a concise summary of the document.\n",
    "\n",
    "🔹 Key Takeaways:\n",
    "- List 3 important points from the text.\n",
    "\n",
    "🔹 Sentiment Analysis:\n",
    "- Determine if the sentiment of the document is Positive, Negative, or Neutral.\n",
    "\"\"\"\n",
    "prompt_template = PromptTemplate(input_variables=[\"text\"], template=template)\n",
    "\n",
    "# 🚀 Step 8: Format the Prompt and Generate Output\n",
    "formatted_prompt = prompt_template.format(text=text_content)\n",
    "response = cohere_llm.predict(formatted_prompt)\n",
    "\n",
    "# 🚀 Step 9: Display the Generated Output\n",
    "print(\"\\n📌 **Formatted Output** 📌\")\n",
    "print(response)"
   ]
  }
 ],
 "metadata": {
  "language_info": {
   "name": "python"
  }
 },
 "nbformat": 4,
 "nbformat_minor": 5
}
